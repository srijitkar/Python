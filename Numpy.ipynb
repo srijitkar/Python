{
 "cells": [
  {
   "cell_type": "markdown",
   "id": "f3634c9f",
   "metadata": {},
   "source": [
    "#### NumPy examples\n",
    "\n",
    "#### NumPy is a general-purpose array-processing package. It provides a high-performance multidimensional array object, and tools for working with these arrays. It is the fundamental package for scientific computing with Python"
   ]
  },
  {
   "cell_type": "code",
   "execution_count": 1,
   "id": "4e584578",
   "metadata": {},
   "outputs": [],
   "source": [
    "#Importing the module\n",
    "\n",
    "import numpy as np"
   ]
  },
  {
   "cell_type": "code",
   "execution_count": 30,
   "id": "70cf7891",
   "metadata": {},
   "outputs": [
    {
     "name": "stdout",
     "output_type": "stream",
     "text": [
      "[1 2 3 4 5]\n"
     ]
    },
    {
     "data": {
      "text/plain": [
       "(5,)"
      ]
     },
     "execution_count": 30,
     "metadata": {},
     "output_type": "execute_result"
    }
   ],
   "source": [
    "#one dimensional array\n",
    "my_list=[1,2,3,4,5]\n",
    "arr=np.array(my_list)\n",
    "print(arr)\n",
    "arr.shape"
   ]
  },
  {
   "cell_type": "code",
   "execution_count": 19,
   "id": "fad5a14e",
   "metadata": {},
   "outputs": [
    {
     "data": {
      "text/plain": [
       "numpy.ndarray"
      ]
     },
     "execution_count": 19,
     "metadata": {},
     "output_type": "execute_result"
    }
   ],
   "source": [
    "type(arr)"
   ]
  },
  {
   "cell_type": "code",
   "execution_count": 32,
   "id": "3729ba01",
   "metadata": {},
   "outputs": [
    {
     "name": "stdout",
     "output_type": "stream",
     "text": [
      "[[1 2 3 4 5]\n",
      " [6 6 3 4 5]\n",
      " [1 7 3 9 5]]\n"
     ]
    }
   ],
   "source": [
    "#Multi dimensional arry based one[row & column]\n",
    "my_list1=[1,2,3,4,5]\n",
    "my_list2=[6,6,3,4,5]\n",
    "my_list3=[1,7,3,9,5]\n",
    "arr1=np.array([my_list1,my_list2,my_list3])\n",
    "print(arr1)\n",
    "\n"
   ]
  },
  {
   "cell_type": "code",
   "execution_count": 31,
   "id": "556aa132",
   "metadata": {},
   "outputs": [
    {
     "data": {
      "text/plain": [
       "(5,)"
      ]
     },
     "execution_count": 31,
     "metadata": {},
     "output_type": "execute_result"
    }
   ],
   "source": [
    "arr.shape"
   ]
  },
  {
   "cell_type": "code",
   "execution_count": 33,
   "id": "4c006f87",
   "metadata": {},
   "outputs": [
    {
     "data": {
      "text/plain": [
       "array([[1, 2, 3],\n",
       "       [4, 5, 6],\n",
       "       [6, 3, 4],\n",
       "       [5, 1, 7],\n",
       "       [3, 9, 5]])"
      ]
     },
     "execution_count": 33,
     "metadata": {},
     "output_type": "execute_result"
    }
   ],
   "source": [
    "#for arry reshaping\n",
    "arr1.reshape(5,3)"
   ]
  },
  {
   "cell_type": "markdown",
   "id": "2e9ad411",
   "metadata": {},
   "source": [
    "##### Aarry indexing"
   ]
  },
  {
   "cell_type": "code",
   "execution_count": 34,
   "id": "ee76ea7d",
   "metadata": {},
   "outputs": [
    {
     "data": {
      "text/plain": [
       "array([1, 2, 3, 4, 5])"
      ]
     },
     "execution_count": 34,
     "metadata": {},
     "output_type": "execute_result"
    }
   ],
   "source": [
    "arr"
   ]
  },
  {
   "cell_type": "code",
   "execution_count": 37,
   "id": "74ba9aee",
   "metadata": {},
   "outputs": [
    {
     "data": {
      "text/plain": [
       "2"
      ]
     },
     "execution_count": 37,
     "metadata": {},
     "output_type": "execute_result"
    }
   ],
   "source": [
    "arr[1]"
   ]
  },
  {
   "cell_type": "code",
   "execution_count": 38,
   "id": "c13d29a6",
   "metadata": {},
   "outputs": [
    {
     "data": {
      "text/plain": [
       "array([[1, 2, 3, 4, 5],\n",
       "       [6, 6, 3, 4, 5],\n",
       "       [1, 7, 3, 9, 5]])"
      ]
     },
     "execution_count": 38,
     "metadata": {},
     "output_type": "execute_result"
    }
   ],
   "source": [
    "arr1"
   ]
  },
  {
   "cell_type": "code",
   "execution_count": 68,
   "id": "45bbab46",
   "metadata": {},
   "outputs": [
    {
     "data": {
      "text/plain": [
       "array([[1, 2],\n",
       "       [6, 6]])"
      ]
     },
     "execution_count": 68,
     "metadata": {},
     "output_type": "execute_result"
    }
   ],
   "source": [
    "arr1[0:2,0:2]"
   ]
  },
  {
   "cell_type": "code",
   "execution_count": 81,
   "id": "ff040b78",
   "metadata": {},
   "outputs": [
    {
     "data": {
      "text/plain": [
       "array([[9, 5]])"
      ]
     },
     "execution_count": 81,
     "metadata": {},
     "output_type": "execute_result"
    }
   ],
   "source": [
    "arr1[2:3,3:]"
   ]
  },
  {
   "cell_type": "code",
   "execution_count": 85,
   "id": "353f83a8",
   "metadata": {},
   "outputs": [
    {
     "data": {
      "text/plain": [
       "array([[3, 4],\n",
       "       [3, 9]])"
      ]
     },
     "execution_count": 85,
     "metadata": {},
     "output_type": "execute_result"
    }
   ],
   "source": [
    "arr1[1:,2:4]"
   ]
  },
  {
   "cell_type": "code",
   "execution_count": 100,
   "id": "5cac67cc",
   "metadata": {},
   "outputs": [
    {
     "data": {
      "text/plain": [
       "array([[6, 3, 4]])"
      ]
     },
     "execution_count": 100,
     "metadata": {},
     "output_type": "execute_result"
    }
   ],
   "source": [
    "arr1[1:2,1:4]"
   ]
  },
  {
   "cell_type": "code",
   "execution_count": 103,
   "id": "cf70f174",
   "metadata": {},
   "outputs": [
    {
     "name": "stdout",
     "output_type": "stream",
     "text": [
      "[0 1 2 3 4 5 6 7 8 9]\n"
     ]
    }
   ],
   "source": [
    "arr=np.arange(0,10)\n",
    "print(arr)"
   ]
  },
  {
   "cell_type": "code",
   "execution_count": 113,
   "id": "03a4ea92",
   "metadata": {},
   "outputs": [
    {
     "data": {
      "text/plain": [
       "array([0, 1, 2, 3, 4, 5, 6, 7, 8, 9])"
      ]
     },
     "execution_count": 113,
     "metadata": {},
     "output_type": "execute_result"
    }
   ],
   "source": [
    "arr=np.arange(0,10)\n",
    "arr"
   ]
  },
  {
   "cell_type": "code",
   "execution_count": 112,
   "id": "7d87e441",
   "metadata": {},
   "outputs": [
    {
     "data": {
      "text/plain": [
       "array([0, 3, 6, 9])"
      ]
     },
     "execution_count": 112,
     "metadata": {},
     "output_type": "execute_result"
    }
   ],
   "source": [
    "arr=np.arange(0,10,step=3)\n",
    "arr"
   ]
  },
  {
   "cell_type": "code",
   "execution_count": 114,
   "id": "cdaf46a0",
   "metadata": {},
   "outputs": [
    {
     "data": {
      "text/plain": [
       "array([ 1.        ,  1.18367347,  1.36734694,  1.55102041,  1.73469388,\n",
       "        1.91836735,  2.10204082,  2.28571429,  2.46938776,  2.65306122,\n",
       "        2.83673469,  3.02040816,  3.20408163,  3.3877551 ,  3.57142857,\n",
       "        3.75510204,  3.93877551,  4.12244898,  4.30612245,  4.48979592,\n",
       "        4.67346939,  4.85714286,  5.04081633,  5.2244898 ,  5.40816327,\n",
       "        5.59183673,  5.7755102 ,  5.95918367,  6.14285714,  6.32653061,\n",
       "        6.51020408,  6.69387755,  6.87755102,  7.06122449,  7.24489796,\n",
       "        7.42857143,  7.6122449 ,  7.79591837,  7.97959184,  8.16326531,\n",
       "        8.34693878,  8.53061224,  8.71428571,  8.89795918,  9.08163265,\n",
       "        9.26530612,  9.44897959,  9.63265306,  9.81632653, 10.        ])"
      ]
     },
     "execution_count": 114,
     "metadata": {},
     "output_type": "execute_result"
    }
   ],
   "source": [
    "np.linspace(1,10,50)"
   ]
  },
  {
   "cell_type": "markdown",
   "id": "f1b0d4d4",
   "metadata": {},
   "source": [
    "### Copy function and brodcasting"
   ]
  },
  {
   "cell_type": "code",
   "execution_count": 115,
   "id": "15e0d1bc",
   "metadata": {},
   "outputs": [
    {
     "data": {
      "text/plain": [
       "array([0, 1, 2, 3, 4, 5, 6, 7, 8, 9])"
      ]
     },
     "execution_count": 115,
     "metadata": {},
     "output_type": "execute_result"
    }
   ],
   "source": [
    "#Copy() function and brodcasting\n",
    "\n",
    "arr"
   ]
  },
  {
   "cell_type": "code",
   "execution_count": 119,
   "id": "ddb9c731",
   "metadata": {},
   "outputs": [
    {
     "name": "stdout",
     "output_type": "stream",
     "text": [
      "[  0   1   2 100 100 100 100 100 100 100]\n"
     ]
    }
   ],
   "source": [
    "##Bordcasting example\n",
    "\n",
    "arr[3:]=100\n",
    "print(arr)"
   ]
  },
  {
   "cell_type": "code",
   "execution_count": 120,
   "id": "25fa8e95",
   "metadata": {},
   "outputs": [
    {
     "data": {
      "text/plain": [
       "array([  0,   1,   2, 100, 100, 100, 100, 100, 100, 100])"
      ]
     },
     "execution_count": 120,
     "metadata": {},
     "output_type": "execute_result"
    }
   ],
   "source": [
    "arr"
   ]
  },
  {
   "cell_type": "code",
   "execution_count": 122,
   "id": "bb4236ca",
   "metadata": {},
   "outputs": [
    {
     "data": {
      "text/plain": [
       "array([  0,   1,   2, 100, 100, 100, 100, 100, 100, 100])"
      ]
     },
     "execution_count": 122,
     "metadata": {},
     "output_type": "execute_result"
    }
   ],
   "source": [
    "arr2=arr\n",
    "arr2"
   ]
  },
  {
   "cell_type": "code",
   "execution_count": 124,
   "id": "0d63dd9d",
   "metadata": {},
   "outputs": [
    {
     "name": "stdout",
     "output_type": "stream",
     "text": [
      "[  0   1   2 500 500 500 500 500 500 500]\n"
     ]
    }
   ],
   "source": [
    "arr2[3:]=500\n",
    "print(arr2)"
   ]
  },
  {
   "cell_type": "code",
   "execution_count": 126,
   "id": "21095893",
   "metadata": {},
   "outputs": [
    {
     "name": "stdout",
     "output_type": "stream",
     "text": [
      "[  0   1   2 500 500 500 500 500 500 500]\n"
     ]
    }
   ],
   "source": [
    "print(arr) #This is called reference type."
   ]
  },
  {
   "cell_type": "code",
   "execution_count": 130,
   "id": "89b36a74",
   "metadata": {},
   "outputs": [
    {
     "name": "stdout",
     "output_type": "stream",
     "text": [
      "[  0   1   2 500 500 500 500 500 500 500]\n",
      "[   0    1    2 1000 1000 1000 1000 1000 1000 1000]\n",
      "[  0   1   2 500 500 500 500 500 500 500]\n"
     ]
    }
   ],
   "source": [
    "#Copy function()\n",
    "\n",
    "arr2=arr.copy()\n",
    "print(arr)\n",
    "arr2[3:]=1000\n",
    "print(arr2)\n",
    "print(arr) #The value of arr is not changing here"
   ]
  },
  {
   "cell_type": "markdown",
   "id": "2ceffec7",
   "metadata": {},
   "source": [
    "### Some other functions"
   ]
  },
  {
   "cell_type": "code",
   "execution_count": 131,
   "id": "ff2ac1f2",
   "metadata": {},
   "outputs": [
    {
     "data": {
      "text/plain": [
       "array([1., 1., 1., 1.])"
      ]
     },
     "execution_count": 131,
     "metadata": {},
     "output_type": "execute_result"
    }
   ],
   "source": [
    "np.ones(4)"
   ]
  },
  {
   "cell_type": "code",
   "execution_count": 132,
   "id": "0be0a426",
   "metadata": {},
   "outputs": [
    {
     "data": {
      "text/plain": [
       "array([1, 1, 1, 1])"
      ]
     },
     "execution_count": 132,
     "metadata": {},
     "output_type": "execute_result"
    }
   ],
   "source": [
    "np.ones(4,dtype=int)"
   ]
  },
  {
   "cell_type": "code",
   "execution_count": 135,
   "id": "b61b799a",
   "metadata": {},
   "outputs": [
    {
     "data": {
      "text/plain": [
       "array([[1, 1, 1, 1, 1],\n",
       "       [1, 1, 1, 1, 1]])"
      ]
     },
     "execution_count": 135,
     "metadata": {},
     "output_type": "execute_result"
    }
   ],
   "source": [
    "np.ones((2,5),dtype=int)"
   ]
  },
  {
   "cell_type": "code",
   "execution_count": 141,
   "id": "a6852e38",
   "metadata": {},
   "outputs": [
    {
     "data": {
      "text/plain": [
       "array([[0.56746179, 0.63412447, 0.41270769, 0.6693346 ],\n",
       "       [0.34851749, 0.27589101, 0.43305746, 0.42188105],\n",
       "       [0.32639383, 0.40200423, 0.61861711, 0.38552695],\n",
       "       [0.72263183, 0.8490317 , 0.80344723, 0.61905227]])"
      ]
     },
     "execution_count": 141,
     "metadata": {},
     "output_type": "execute_result"
    }
   ],
   "source": [
    "##Random distribution\n",
    "np.random.rand(4,4)"
   ]
  },
  {
   "cell_type": "code",
   "execution_count": 150,
   "id": "b3f56db1",
   "metadata": {},
   "outputs": [
    {
     "data": {
      "text/plain": [
       "array([[-1.07761066,  1.14030765,  0.11148569, -0.34163654],\n",
       "       [-1.08598059, -0.01539636,  0.21997488, -0.71862772],\n",
       "       [-0.19879691, -0.69673164, -0.03447639,  0.6158402 ],\n",
       "       [-0.32011352, -0.03945234,  0.80851898, -0.42985985]])"
      ]
     },
     "execution_count": 150,
     "metadata": {},
     "output_type": "execute_result"
    }
   ],
   "source": [
    "arr_ex=np.random.randn(4,4)\n",
    "arr_ex"
   ]
  },
  {
   "cell_type": "code",
   "execution_count": 155,
   "id": "a5f33f71",
   "metadata": {},
   "outputs": [
    {
     "data": {
      "text/plain": [
       "array([25, 42, 82, 65, 47, 57, 33, 10])"
      ]
     },
     "execution_count": 155,
     "metadata": {},
     "output_type": "execute_result"
    }
   ],
   "source": [
    "np.random.randint(0,100,8)"
   ]
  },
  {
   "cell_type": "code",
   "execution_count": 161,
   "id": "21872ebe",
   "metadata": {},
   "outputs": [
    {
     "data": {
      "text/plain": [
       "array([[44, 28],\n",
       "       [86,  7],\n",
       "       [12, 73],\n",
       "       [50, 41]])"
      ]
     },
     "execution_count": 161,
     "metadata": {},
     "output_type": "execute_result"
    }
   ],
   "source": [
    "np.random.randint(0,100,8).reshape(4,2)"
   ]
  },
  {
   "cell_type": "code",
   "execution_count": 165,
   "id": "01d9415d",
   "metadata": {},
   "outputs": [
    {
     "data": {
      "text/plain": [
       "array([[0.65169304, 0.02142046, 0.04062742, 0.70344565, 0.09797952]])"
      ]
     },
     "execution_count": 165,
     "metadata": {},
     "output_type": "execute_result"
    }
   ],
   "source": [
    "np.random.random_sample((1,5))"
   ]
  },
  {
   "cell_type": "code",
   "execution_count": 167,
   "id": "2be836fe",
   "metadata": {},
   "outputs": [
    {
     "name": "stderr",
     "output_type": "stream",
     "text": [
      "C:\\Users\\SRIJIT KAR\\anaconda3\\lib\\site-packages\\seaborn\\distributions.py:2619: FutureWarning: `distplot` is a deprecated function and will be removed in a future version. Please adapt your code to use either `displot` (a figure-level function with similar flexibility) or `histplot` (an axes-level function for histograms).\n",
      "  warnings.warn(msg, FutureWarning)\n"
     ]
    },
    {
     "data": {
      "text/plain": [
       "<AxesSubplot:ylabel='Density'>"
      ]
     },
     "execution_count": 167,
     "metadata": {},
     "output_type": "execute_result"
    },
    {
     "data": {
      "image/png": "[encoded data removed]",
      "text/plain": [
       "<Figure size 432x288 with 1 Axes>"
      ]
     },
     "metadata": {
      "needs_background": "light"
     },
     "output_type": "display_data"
    }
   ],
   "source": [
    "import seaborn as sns\n",
    "import pandas as pd\n",
    "\n",
    "sns.distplot(pd.DataFrame(arr_ex.reshape(16,1)))"
   ]
  },
  {
   "cell_type": "code",
   "execution_count": null,
   "id": "072ec847",
   "metadata": {},
   "outputs": [],
   "source": []
  }
 ],
 "metadata": {
  "kernelspec": {
   "display_name": "Python 3 (ipykernel)",
   "language": "python",
   "name": "python3"
  },
  "language_info": {
   "codemirror_mode": {
    "name": "ipython",
    "version": 3
   },
   "file_extension": ".py",
   "mimetype": "text/x-python",
   "name": "python",
   "nbconvert_exporter": "python",
   "pygments_lexer": "ipython3",
   "version": "3.9.7"
  }
 },
 "nbformat": 4,
 "nbformat_minor": 5
}
